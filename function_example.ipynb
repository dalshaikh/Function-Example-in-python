{
  "nbformat": 4,
  "nbformat_minor": 0,
  "metadata": {
    "colab": {
      "name": "function example.ipynb",
      "provenance": [],
      "authorship_tag": "ABX9TyORjH3+kDNI8j8IWtZ7NH1H",
      "include_colab_link": true
    },
    "kernelspec": {
      "name": "python3",
      "display_name": "Python 3"
    },
    "language_info": {
      "name": "python"
    }
  },
  "cells": [
    {
      "cell_type": "markdown",
      "metadata": {
        "id": "view-in-github",
        "colab_type": "text"
      },
      "source": [
        "<a href=\"https://colab.research.google.com/github/dalshaikh/Function-Example-in-python/blob/main/function_example.ipynb\" target=\"_parent\"><img src=\"https://colab.research.google.com/assets/colab-badge.svg\" alt=\"Open In Colab\"/></a>"
      ]
    },
    {
      "cell_type": "code",
      "metadata": {
        "colab": {
          "base_uri": "https://localhost:8080/"
        },
        "id": "yzKbJPkaFrX-",
        "outputId": "575af243-233b-42b7-e950-d20728a4ebe1"
      },
      "source": [
        "# create function\n",
        "def calculation (num1,num2,operator):\n",
        "\n",
        "  if (operator == '+'):\n",
        "    add = num1 + num2\n",
        "    print (\"the summation =\", add)\n",
        "  elif (operator == '-'):\n",
        "    sub = num1- num2\n",
        "    print(\"The sub = \", sub)\n",
        "  elif (operator == '*'):\n",
        "    multi = num1 * num2\n",
        "    print(\"The multi = \", multi) \n",
        "  elif (operator == '/'):\n",
        "    div = num1 / num2\n",
        "    print(\"the divition (float) = \", div) \n",
        "  elif (operator == '//'):\n",
        "    div2 = num1 // num2\n",
        "    print(\"The divition (int) = \", div2) \n",
        "  elif (operator == '%'):\n",
        "    mod = num1 % num2 \n",
        "    print(\"The mod = \", mod)\n",
        "  else :\n",
        "   print(\"the operation not found\") \n",
        "   # OR\n",
        "   #pass (DO NO THING)\n",
        "\n",
        "#### CALL FUNCTION ####\n",
        "calculation(5,5,'+')    \n",
        "calculation(10,5,'-')    \n",
        "calculation(10,5,'*')    \n",
        "calculation(10,5,'/')    \n",
        "calculation(10,5,'//')    \n",
        "calculation(10,5,'%')\n",
        "calculation(10,5,'$')  \n",
        "\n",
        "\n"
      ],
      "execution_count": 1,
      "outputs": [
        {
          "output_type": "stream",
          "name": "stdout",
          "text": [
            "the summation = 10\n",
            "The sub =  5\n",
            "The multi =  50\n",
            "the divition (float) =  2.0\n",
            "The divition (int) =  2\n",
            "The mod =  0\n",
            "the operation not found\n"
          ]
        }
      ]
    },
    {
      "cell_type": "code",
      "metadata": {
        "colab": {
          "base_uri": "https://localhost:8080/"
        },
        "id": "nwciPRYDQ9pX",
        "outputId": "0add45ba-d9d1-42b9-c16c-5b8c9d90abb7"
      },
      "source": [
        "###############FUNCTION RETURN MORE THAN ONE VALUE ##################\n",
        "def calculation (num1,num2):\n",
        "    add = num1 + num2\n",
        "    sub = num1- num2\n",
        "    multi = num1 * num2\n",
        "    div = num1 / num2\n",
        "    div2 = num1 // num2\n",
        "    mod = num1 % num2 \n",
        "    return add , sub , multi , div , div2 , mod \n",
        "### CALL FUNCTION### \n",
        "a ,b,c,d,e,f = calculation(5,5) \n",
        "print (\"the summation =\", a)\n",
        "print(\"The sub = \", b)\n",
        "print(\"The multi = \", c)\n",
        "print(\"The div = \", d)\n",
        "print(\"The div2 = \", e)\n",
        "print(\"The mod = \", f)"
      ],
      "execution_count": 2,
      "outputs": [
        {
          "output_type": "stream",
          "name": "stdout",
          "text": [
            "the summation = 10\n",
            "The sub =  0\n",
            "The multi =  25\n",
            "The div =  1.0\n",
            "The div2 =  1\n",
            "The mod =  0\n"
          ]
        }
      ]
    },
    {
      "cell_type": "code",
      "metadata": {
        "colab": {
          "base_uri": "https://localhost:8080/"
        },
        "id": "J3DTFdreTuhB",
        "outputId": "69e8f7d1-5687-4a23-d759-c5dcfd2958ea"
      },
      "source": [
        "#################### Function to do Cumulative sum ####################\n",
        "print(\"Printing current and previous number sum in a range(10)\")\n",
        "for i in range(0,10):\n",
        "  if i==0:\n",
        "    sum1=0\n",
        "    sum1=sum1+i\n",
        "    print(\"Current Number \",i , \"Previous Number \", i,\"  Sum:  \" , sum1) \n",
        "  else:\n",
        "    sum=0\n",
        "    sum = i+(i-1)\n",
        "    print(\"Current Number \",i , \"Previous Number \", i-1,\"  Sum:  \" , sum)\n"
      ],
      "execution_count": 3,
      "outputs": [
        {
          "output_type": "stream",
          "name": "stdout",
          "text": [
            "Printing current and previous number sum in a range(10)\n",
            "Current Number  0 Previous Number  0   Sum:   0\n",
            "Current Number  1 Previous Number  0   Sum:   1\n",
            "Current Number  2 Previous Number  1   Sum:   3\n",
            "Current Number  3 Previous Number  2   Sum:   5\n",
            "Current Number  4 Previous Number  3   Sum:   7\n",
            "Current Number  5 Previous Number  4   Sum:   9\n",
            "Current Number  6 Previous Number  5   Sum:   11\n",
            "Current Number  7 Previous Number  6   Sum:   13\n",
            "Current Number  8 Previous Number  7   Sum:   15\n",
            "Current Number  9 Previous Number  8   Sum:   17\n"
          ]
        }
      ]
    },
    {
      "cell_type": "code",
      "metadata": {
        "colab": {
          "base_uri": "https://localhost:8080/"
        },
        "id": "kNActl70binr",
        "outputId": "fc02cf0b-6db3-4b22-c80b-fb813c1d5d8b"
      },
      "source": [
        "#######  Print characters from a string that are present at an even index number  ##########\n",
        "print(\"Orginal String is  pynative\")\n",
        "name=\"pynative\"\n",
        "for i in range (len(name)):\n",
        "  if (i % 2 == 0):\n",
        "    print(\"even index =  \", name[i])\n",
        "  else:\n",
        "    pass\n"
      ],
      "execution_count": 4,
      "outputs": [
        {
          "output_type": "stream",
          "name": "stdout",
          "text": [
            "Orginal String is  pynative\n",
            "even index =   p\n",
            "even index =   n\n",
            "even index =   t\n",
            "even index =   v\n"
          ]
        }
      ]
    },
    {
      "cell_type": "code",
      "metadata": {
        "colab": {
          "base_uri": "https://localhost:8080/"
        },
        "id": "NI2pWxG1fg6Z",
        "outputId": "b4c1039b-e02c-41f1-b5f7-c8e922b2db1d"
      },
      "source": [
        "# Function to Remove number of charactor:\n",
        "def remove_char(name , num1):\n",
        "  print (\"The Oreginal Name Is \", name)\n",
        "  print(\"The New Name Is \" , name[num1:])\n",
        " \n",
        "  #print(\"The New Name Is \" , name[num1:len(name)])\n",
        "\n",
        "remove_char(\"pynative\",4)\n",
        "print(\"****************************************\")\n",
        "remove_char(\"pynative\",2)"
      ],
      "execution_count": 6,
      "outputs": [
        {
          "output_type": "stream",
          "name": "stdout",
          "text": [
            "The Oreginal Name Is  pynative\n",
            "The New Name Is  tive\n",
            "****************************************\n",
            "The Oreginal Name Is  pynative\n",
            "The New Name Is  native\n"
          ]
        }
      ]
    },
    {
      "cell_type": "code",
      "metadata": {
        "colab": {
          "base_uri": "https://localhost:8080/"
        },
        "id": "lrHOopexh4fy",
        "outputId": "f73db4c0-e3d0-47ba-a8c2-59fd6c3bcbb9"
      },
      "source": [
        "# function to check if list 1 same list 2\n",
        "def same_list(number_list):\n",
        "  print (number_list)\n",
        "  first_element=number_list[0]\n",
        "  second_element=number_list[len(number_list)-1]\n",
        "  #  second_element=number_list[-1]\n",
        "\n",
        "  if (first_element== second_element):\n",
        "    print (\"same element\")\n",
        "  else:\n",
        "   print (\"different element\")\n",
        "same_list([10,20,10])\n",
        "same_list([10,20,30])\n",
        "\n",
        "\n"
      ],
      "execution_count": 7,
      "outputs": [
        {
          "output_type": "stream",
          "name": "stdout",
          "text": [
            "[10, 20, 10]\n",
            "same element\n",
            "[10, 20, 30]\n",
            "different element\n"
          ]
        }
      ]
    },
    {
      "cell_type": "code",
      "metadata": {
        "colab": {
          "base_uri": "https://localhost:8080/"
        },
        "id": "b1K6m6IV1irn",
        "outputId": "9d4e4e56-431b-4000-be88-43a52a5fcdeb"
      },
      "source": [
        "# Object oriented programing\n",
        "class fruit:\n",
        "  def __init__(self,name,color):\n",
        "    self.name=name\n",
        "    self.color=color\n",
        "  def show(self):\n",
        "    print(\"fruit name is \" ,self.name , \"fruit color is  \",self.color)\n",
        "obj=fruit(\"apple\", \"red\")\n",
        "obj.show();\n",
        "    "
      ],
      "execution_count": null,
      "outputs": [
        {
          "output_type": "stream",
          "name": "stdout",
          "text": [
            "fruit name is  apple fruit color is   red\n"
          ]
        }
      ]
    },
    {
      "cell_type": "code",
      "metadata": {
        "colab": {
          "base_uri": "https://localhost:8080/"
        },
        "id": "fFTaNwVU3-XI",
        "outputId": "03408f3b-9415-4fde-ee53-b0584f46071c"
      },
      "source": [
        "# # Object oriented programing\n",
        "\n",
        "class student :\n",
        "  def __init__(self,id , name, gpa):\n",
        "    self.id=id\n",
        "    self.name=name\n",
        "    self.gpa=gpa\n",
        "  def display(self):\n",
        "    print (\"studnt id = \" , self.id ,\"student name is \" , self.name ,\"student gpa = \" , self.gpa)\n",
        "obj=student(978545512,\"doha\" , 3.14)\n",
        "obj.display();"
      ],
      "execution_count": 10,
      "outputs": [
        {
          "output_type": "stream",
          "name": "stdout",
          "text": [
            "studnt id =  978545512 student name is  doha student gpa =  3.14\n"
          ]
        }
      ]
    }
  ]
}